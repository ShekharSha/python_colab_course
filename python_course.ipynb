{
  "nbformat": 4,
  "nbformat_minor": 0,
  "metadata": {
    "colab": {
      "provenance": [],
      "authorship_tag": "ABX9TyP0cBLnKZcUy+SGYdFoO0qU",
      "include_colab_link": true
    },
    "kernelspec": {
      "name": "python3",
      "display_name": "Python 3"
    },
    "language_info": {
      "name": "python"
    }
  },
  "cells": [
    {
      "cell_type": "markdown",
      "metadata": {
        "id": "view-in-github",
        "colab_type": "text"
      },
      "source": [
        "<a href=\"https://colab.research.google.com/github/ShekharSha/python_colab_course/blob/main/python_course.ipynb\" target=\"_parent\"><img src=\"https://colab.research.google.com/assets/colab-badge.svg\" alt=\"Open In Colab\"/></a>"
      ]
    },
    {
      "cell_type": "markdown",
      "source": [
        "datatypes:- types of data in variable\n",
        "\n",
        "\n",
        "*   numeric type\n",
        "*   boolean\n",
        "\n"
      ],
      "metadata": {
        "id": "fYFBeTVRrlAv"
      }
    },
    {
      "cell_type": "code",
      "source": [
        "password=input(\"enter password\")\n",
        "print(password)\n",
        "age=int(input(\"enter age\"))\n",
        "print(age)\n",
        "name=str(input(\"enter name\"))\n",
        "print(name)\n",
        "contact=float(input(\"enter contact\"))\n",
        "print(contact)\n"
      ],
      "metadata": {
        "colab": {
          "base_uri": "https://localhost:8080/"
        },
        "id": "LwBBgsxmyc5g",
        "outputId": "e0c12acd-b447-4a18-d2aa-5650d684e224"
      },
      "execution_count": null,
      "outputs": [
        {
          "output_type": "stream",
          "name": "stdout",
          "text": [
            "enter password12345\n",
            "12345\n",
            "enter age34\n",
            "34\n",
            "enter name53\n",
            "53\n",
            "enter contact33\n",
            "33.0\n"
          ]
        }
      ]
    },
    {
      "cell_type": "code",
      "source": [
        "print(input(type(3)))"
      ],
      "metadata": {
        "colab": {
          "base_uri": "https://localhost:8080/"
        },
        "id": "TgnlIpkgwDlX",
        "outputId": "d70c206e-d5ff-4232-b397-14ade4c7bb09"
      },
      "execution_count": null,
      "outputs": [
        {
          "output_type": "stream",
          "name": "stdout",
          "text": [
            "<class 'int'>4\n",
            "4\n"
          ]
        }
      ]
    },
    {
      "cell_type": "code",
      "execution_count": null,
      "metadata": {
        "colab": {
          "base_uri": "https://localhost:8080/"
        },
        "id": "BE5PuEPlq-Ac",
        "outputId": "e787a5f5-3ac9-4862-8b10-6283b36365f6"
      },
      "outputs": [
        {
          "output_type": "stream",
          "name": "stdout",
          "text": [
            "<class 'complex'>\n"
          ]
        }
      ],
      "source": [
        "print(type(1+3j))"
      ]
    },
    {
      "cell_type": "code",
      "source": [
        "a=10\n",
        "a+=5\n",
        "print(a)"
      ],
      "metadata": {
        "id": "b1_6hSji311A",
        "colab": {
          "base_uri": "https://localhost:8080/"
        },
        "outputId": "5519a246-72a1-43ee-c5d1-3d2991fa61c3"
      },
      "execution_count": null,
      "outputs": [
        {
          "output_type": "stream",
          "name": "stdout",
          "text": [
            "15\n"
          ]
        }
      ]
    },
    {
      "cell_type": "code",
      "source": [
        "a-=2\n",
        "print(a)"
      ],
      "metadata": {
        "colab": {
          "base_uri": "https://localhost:8080/"
        },
        "id": "mBqJa8mNHZ_E",
        "outputId": "8fab5e8d-99f4-4651-8675-00d16fa38f33"
      },
      "execution_count": null,
      "outputs": [
        {
          "output_type": "stream",
          "name": "stdout",
          "text": [
            "13\n"
          ]
        }
      ]
    },
    {
      "cell_type": "code",
      "source": [
        "a*=2\n",
        "print(a)"
      ],
      "metadata": {
        "colab": {
          "base_uri": "https://localhost:8080/"
        },
        "id": "dJqE2JT-IuIJ",
        "outputId": "c261e438-a9e0-4dcd-d729-b74d2f8fcf61"
      },
      "execution_count": null,
      "outputs": [
        {
          "output_type": "stream",
          "name": "stdout",
          "text": [
            "26\n"
          ]
        }
      ]
    },
    {
      "cell_type": "code",
      "source": [
        "a/=2\n",
        "print(a)\n"
      ],
      "metadata": {
        "colab": {
          "base_uri": "https://localhost:8080/"
        },
        "id": "uBz8ntWQIyXA",
        "outputId": "afd33605-27f5-44b1-8d25-cec46fdf1043"
      },
      "execution_count": null,
      "outputs": [
        {
          "output_type": "stream",
          "name": "stdout",
          "text": [
            "13.0\n"
          ]
        }
      ]
    },
    {
      "cell_type": "code",
      "source": [
        "x=\"22\"\n",
        "print(int(x))"
      ],
      "metadata": {
        "colab": {
          "base_uri": "https://localhost:8080/"
        },
        "id": "0NaWVSptVx5S",
        "outputId": "a51a1803-fa73-4756-d1ff-0a5992cf6bb2"
      },
      "execution_count": null,
      "outputs": [
        {
          "output_type": "stream",
          "name": "stdout",
          "text": [
            "22\n"
          ]
        }
      ]
    },
    {
      "cell_type": "code",
      "source": [
        "x=[0,1,2,3,4,5,6,7,8,9,]\n",
        "print(x[0:10:2])"
      ],
      "metadata": {
        "colab": {
          "base_uri": "https://localhost:8080/"
        },
        "id": "40VCpD_LShB6",
        "outputId": "7d92b294-7b11-43c6-93c8-5af813435356"
      },
      "execution_count": null,
      "outputs": [
        {
          "output_type": "stream",
          "name": "stdout",
          "text": [
            "[0, 2, 4, 6, 8]\n"
          ]
        }
      ]
    },
    {
      "cell_type": "code",
      "source": [
        "x=[0,1,2,3,4,5,6,7,8,9,]\n",
        "x.remove(4)\n",
        "x.pop(2)\n",
        "x.sort(reverse=True)"
      ],
      "metadata": {
        "id": "ubz3mq6MWW0t"
      },
      "execution_count": null,
      "outputs": []
    },
    {
      "cell_type": "code",
      "source": [
        "y=('john','mary',1,2,3,4,5)\n",
        "# y.index(2)\n",
        "y.append(6)\n",
        "y.count()\n"
      ],
      "metadata": {
        "colab": {
          "base_uri": "https://localhost:8080/",
          "height": 176
        },
        "id": "leQ8leH6ZtRt",
        "outputId": "d355e95c-5949-4895-8c29-b374ef090269"
      },
      "execution_count": null,
      "outputs": [
        {
          "output_type": "error",
          "ename": "AttributeError",
          "evalue": "'tuple' object has no attribute 'append'",
          "traceback": [
            "\u001b[0;31m---------------------------------------------------------------------------\u001b[0m",
            "\u001b[0;31mAttributeError\u001b[0m                            Traceback (most recent call last)",
            "\u001b[0;32m/tmp/ipython-input-9-3806366934.py\u001b[0m in \u001b[0;36m<cell line: 0>\u001b[0;34m()\u001b[0m\n\u001b[1;32m      1\u001b[0m \u001b[0my\u001b[0m\u001b[0;34m=\u001b[0m\u001b[0;34m(\u001b[0m\u001b[0;34m'john'\u001b[0m\u001b[0;34m,\u001b[0m\u001b[0;34m'mary'\u001b[0m\u001b[0;34m,\u001b[0m\u001b[0;36m1\u001b[0m\u001b[0;34m,\u001b[0m\u001b[0;36m2\u001b[0m\u001b[0;34m,\u001b[0m\u001b[0;36m3\u001b[0m\u001b[0;34m,\u001b[0m\u001b[0;36m4\u001b[0m\u001b[0;34m,\u001b[0m\u001b[0;36m5\u001b[0m\u001b[0;34m)\u001b[0m\u001b[0;34m\u001b[0m\u001b[0;34m\u001b[0m\u001b[0m\n\u001b[1;32m      2\u001b[0m \u001b[0;31m# y.index(2)\u001b[0m\u001b[0;34m\u001b[0m\u001b[0;34m\u001b[0m\u001b[0m\n\u001b[0;32m----> 3\u001b[0;31m \u001b[0my\u001b[0m\u001b[0;34m.\u001b[0m\u001b[0mappend\u001b[0m\u001b[0;34m(\u001b[0m\u001b[0;36m6\u001b[0m\u001b[0;34m)\u001b[0m\u001b[0;34m\u001b[0m\u001b[0;34m\u001b[0m\u001b[0m\n\u001b[0m",
            "\u001b[0;31mAttributeError\u001b[0m: 'tuple' object has no attribute 'append'"
          ]
        }
      ]
    },
    {
      "cell_type": "code",
      "source": [
        "fname=\"R  a  m\"\n",
        "fname.strip()"
      ],
      "metadata": {
        "colab": {
          "base_uri": "https://localhost:8080/",
          "height": 35
        },
        "id": "iTFyC84EiQLq",
        "outputId": "66448b45-75c1-463d-a2a0-1aa06ccae9ab"
      },
      "execution_count": null,
      "outputs": [
        {
          "output_type": "execute_result",
          "data": {
            "text/plain": [
              "'Ra  m'"
            ],
            "application/vnd.google.colaboratory.intrinsic+json": {
              "type": "string"
            }
          },
          "metadata": {},
          "execution_count": 1
        }
      ]
    },
    {
      "cell_type": "markdown",
      "source": [
        "# a = \"Good morning guys\"\n",
        "# b = \"How are you\"\n",
        "# 1. merge the both string\n",
        "# 2. show \"morning\" using slicing\n",
        "# 3. make the a string in upper case\n",
        "# 4. make the b string in lower case\n",
        "# 5. show \" are you\" from the b string using slicing\n",
        "# 6. replace \"morning\" with \"evening\"\n",
        "# 7. Remove all the spaces from a as well as b"
      ],
      "metadata": {
        "id": "BQAbfXYFugUf"
      }
    },
    {
      "cell_type": "code",
      "source": [
        "a = \"Good morning guys\"\n",
        "b = \"How are you\"\n",
        "\n",
        "print(a+b)\n"
      ],
      "metadata": {
        "colab": {
          "base_uri": "https://localhost:8080/"
        },
        "id": "NFKrAZuRujXX",
        "outputId": "72001e66-d156-4b92-acd6-fe9cac81a6a1"
      },
      "execution_count": null,
      "outputs": [
        {
          "output_type": "stream",
          "name": "stdout",
          "text": [
            "Good morning guysHow are you\n"
          ]
        }
      ]
    },
    {
      "cell_type": "code",
      "source": [
        "a.upper()\n"
      ],
      "metadata": {
        "colab": {
          "base_uri": "https://localhost:8080/",
          "height": 35
        },
        "id": "nQIDhHAlv7X5",
        "outputId": "52575abe-0976-4c2d-e8ef-dc320fa5ccd7"
      },
      "execution_count": null,
      "outputs": [
        {
          "output_type": "execute_result",
          "data": {
            "text/plain": [
              "'GOOD MORNING GUYS'"
            ],
            "application/vnd.google.colaboratory.intrinsic+json": {
              "type": "string"
            }
          },
          "metadata": {},
          "execution_count": 5
        }
      ]
    },
    {
      "cell_type": "code",
      "source": [
        "b.upper()"
      ],
      "metadata": {
        "colab": {
          "base_uri": "https://localhost:8080/",
          "height": 35
        },
        "id": "zjBc8YgpxMRW",
        "outputId": "bca2a69c-3bcc-4f65-d9d5-4fb98a02c810"
      },
      "execution_count": null,
      "outputs": [
        {
          "output_type": "execute_result",
          "data": {
            "text/plain": [
              "'HOW ARE YOU'"
            ],
            "application/vnd.google.colaboratory.intrinsic+json": {
              "type": "string"
            }
          },
          "metadata": {},
          "execution_count": 4
        }
      ]
    },
    {
      "cell_type": "code",
      "source": [
        "a.lower()"
      ],
      "metadata": {
        "colab": {
          "base_uri": "https://localhost:8080/",
          "height": 35
        },
        "id": "nJ_9keEjxQHy",
        "outputId": "36670232-c03b-4329-f026-76deae8d089f"
      },
      "execution_count": null,
      "outputs": [
        {
          "output_type": "execute_result",
          "data": {
            "text/plain": [
              "'good morning guys'"
            ],
            "application/vnd.google.colaboratory.intrinsic+json": {
              "type": "string"
            }
          },
          "metadata": {},
          "execution_count": 6
        }
      ]
    },
    {
      "cell_type": "code",
      "source": [
        "b.lower()"
      ],
      "metadata": {
        "colab": {
          "base_uri": "https://localhost:8080/",
          "height": 35
        },
        "id": "USW-rFd8xVoG",
        "outputId": "bac0c1b0-7fd1-47ac-8e1c-7b8a195cb95d"
      },
      "execution_count": null,
      "outputs": [
        {
          "output_type": "execute_result",
          "data": {
            "text/plain": [
              "'how are you'"
            ],
            "application/vnd.google.colaboratory.intrinsic+json": {
              "type": "string"
            }
          },
          "metadata": {},
          "execution_count": 7
        }
      ]
    },
    {
      "cell_type": "code",
      "source": [
        "a[4:13]"
      ],
      "metadata": {
        "colab": {
          "base_uri": "https://localhost:8080/",
          "height": 35
        },
        "id": "4gU7BpIixb0o",
        "outputId": "f1d9275c-dd18-40df-f1b2-4eb6394fd487"
      },
      "execution_count": null,
      "outputs": [
        {
          "output_type": "execute_result",
          "data": {
            "text/plain": [
              "' morning '"
            ],
            "application/vnd.google.colaboratory.intrinsic+json": {
              "type": "string"
            }
          },
          "metadata": {},
          "execution_count": 9
        }
      ]
    },
    {
      "cell_type": "code",
      "source": [
        "b[4:11]"
      ],
      "metadata": {
        "colab": {
          "base_uri": "https://localhost:8080/",
          "height": 35
        },
        "id": "cc6SC5ptzn7_",
        "outputId": "f60a22a5-ca5c-494e-b337-df2b4d4981ff"
      },
      "execution_count": null,
      "outputs": [
        {
          "output_type": "execute_result",
          "data": {
            "text/plain": [
              "'are you'"
            ],
            "application/vnd.google.colaboratory.intrinsic+json": {
              "type": "string"
            }
          },
          "metadata": {},
          "execution_count": 12
        }
      ]
    },
    {
      "cell_type": "code",
      "source": [
        "a.replace('morning','evening')"
      ],
      "metadata": {
        "colab": {
          "base_uri": "https://localhost:8080/",
          "height": 35
        },
        "id": "kBHx35xl0L_N",
        "outputId": "9d4fa664-bbe8-4006-c617-9f9fa2810e07"
      },
      "execution_count": null,
      "outputs": [
        {
          "output_type": "execute_result",
          "data": {
            "text/plain": [
              "'Good evening guys'"
            ],
            "application/vnd.google.colaboratory.intrinsic+json": {
              "type": "string"
            }
          },
          "metadata": {},
          "execution_count": 13
        }
      ]
    },
    {
      "cell_type": "code",
      "source": [
        "a.strip()"
      ],
      "metadata": {
        "colab": {
          "base_uri": "https://localhost:8080/",
          "height": 35
        },
        "id": "LpQUdPMw0Wwq",
        "outputId": "d73cb7c0-2b41-4580-e23d-87e0596f8aee"
      },
      "execution_count": null,
      "outputs": [
        {
          "output_type": "execute_result",
          "data": {
            "text/plain": [
              "'Good morning guys'"
            ],
            "application/vnd.google.colaboratory.intrinsic+json": {
              "type": "string"
            }
          },
          "metadata": {},
          "execution_count": 16
        }
      ]
    },
    {
      "cell_type": "code",
      "source": [
        "b.strip()"
      ],
      "metadata": {
        "colab": {
          "base_uri": "https://localhost:8080/",
          "height": 35
        },
        "id": "UjYdL2t506f7",
        "outputId": "943a1e10-e015-46e5-9dfe-6b8910c729a0"
      },
      "execution_count": null,
      "outputs": [
        {
          "output_type": "execute_result",
          "data": {
            "text/plain": [
              "'How are you'"
            ],
            "application/vnd.google.colaboratory.intrinsic+json": {
              "type": "string"
            }
          },
          "metadata": {},
          "execution_count": 17
        }
      ]
    },
    {
      "cell_type": "code",
      "source": [
        "x={1,2,3,4}\n",
        "x.append(5)"
      ],
      "metadata": {
        "colab": {
          "base_uri": "https://localhost:8080/",
          "height": 158
        },
        "id": "pvRp2JKA6YIV",
        "outputId": "f02d750d-4ee0-48a1-b9bb-aad69759f811"
      },
      "execution_count": null,
      "outputs": [
        {
          "output_type": "error",
          "ename": "AttributeError",
          "evalue": "'set' object has no attribute 'append'",
          "traceback": [
            "\u001b[0;31m---------------------------------------------------------------------------\u001b[0m",
            "\u001b[0;31mAttributeError\u001b[0m                            Traceback (most recent call last)",
            "\u001b[0;32m/tmp/ipython-input-18-1423430588.py\u001b[0m in \u001b[0;36m<cell line: 0>\u001b[0;34m()\u001b[0m\n\u001b[1;32m      1\u001b[0m \u001b[0mx\u001b[0m\u001b[0;34m=\u001b[0m\u001b[0;34m{\u001b[0m\u001b[0;36m1\u001b[0m\u001b[0;34m,\u001b[0m\u001b[0;36m2\u001b[0m\u001b[0;34m,\u001b[0m\u001b[0;36m3\u001b[0m\u001b[0;34m,\u001b[0m\u001b[0;36m4\u001b[0m\u001b[0;34m}\u001b[0m\u001b[0;34m\u001b[0m\u001b[0;34m\u001b[0m\u001b[0m\n\u001b[0;32m----> 2\u001b[0;31m \u001b[0mx\u001b[0m\u001b[0;34m.\u001b[0m\u001b[0mappend\u001b[0m\u001b[0;34m(\u001b[0m\u001b[0;36m5\u001b[0m\u001b[0;34m)\u001b[0m\u001b[0;34m\u001b[0m\u001b[0;34m\u001b[0m\u001b[0m\n\u001b[0m",
            "\u001b[0;31mAttributeError\u001b[0m: 'set' object has no attribute 'append'"
          ]
        }
      ]
    },
    {
      "cell_type": "code",
      "source": [
        "c=\"hello everyone\"\n",
        "print(c.split())"
      ],
      "metadata": {
        "colab": {
          "base_uri": "https://localhost:8080/"
        },
        "id": "V4u4WvKUuOTn",
        "outputId": "7aa29777-7bb5-4203-e405-426c448c0fc7"
      },
      "execution_count": null,
      "outputs": [
        {
          "output_type": "stream",
          "name": "stdout",
          "text": [
            "['hello', 'everyone']\n"
          ]
        }
      ]
    },
    {
      "cell_type": "code",
      "source": [
        "dict1={\n",
        "    'emp_name'='max'\n",
        "    'dept'='it'\n",
        "    'emp_salary'='10000'\n",
        "    'details'=(\n",
        "        'add'='bengaluru'\n",
        "        'contact'='9876543210'\n",
        "    )\n",
        "\n",
        "}"
      ],
      "metadata": {
        "id": "cqq8M-3FJ0z9"
      },
      "execution_count": null,
      "outputs": []
    },
    {
      "cell_type": "code",
      "source": [
        "x=int(input(\"enter your number:\"))\n",
        "if x%2==0:\n",
        "\n",
        "  print(\"even\")\n",
        "else:\n",
        "\n",
        "  print(\"odd\")"
      ],
      "metadata": {
        "colab": {
          "base_uri": "https://localhost:8080/"
        },
        "id": "WJc1txIsGSQK",
        "outputId": "68e670a8-35a8-46e4-c47b-13ce051953ab"
      },
      "execution_count": null,
      "outputs": [
        {
          "output_type": "stream",
          "name": "stdout",
          "text": [
            "enter your number:12\n",
            "even\n"
          ]
        }
      ]
    },
    {
      "cell_type": "code",
      "source": [
        "num=int(input(\"enter your number:\"))\n",
        "if num%2==0 and num<=50:\n",
        "  print(\"even and less than 50\")\n",
        "elif num%2==0 and num>=50:\n",
        "  print(\"it is greater than 50\")\n",
        "else:\n",
        "  print(\"odd\")\n"
      ],
      "metadata": {
        "colab": {
          "base_uri": "https://localhost:8080/"
        },
        "id": "ycjsl_fPJdn9",
        "outputId": "ad34f1f3-a62e-4c86-9102-b858202a5b86"
      },
      "execution_count": null,
      "outputs": [
        {
          "output_type": "stream",
          "name": "stdout",
          "text": [
            "enter your number:20\n",
            "even\n"
          ]
        }
      ]
    },
    {
      "cell_type": "code",
      "source": [
        "for num in range (10,50):\n",
        "  if num%2==0:\n",
        "    print(\"even\",num)\n",
        "  else:\n",
        "    print(\"odd\",num)"
      ],
      "metadata": {
        "id": "hBLP8Y0cU89o",
        "colab": {
          "base_uri": "https://localhost:8080/"
        },
        "outputId": "9200e07e-66ae-4a90-dfee-14b2765f84e6"
      },
      "execution_count": null,
      "outputs": [
        {
          "output_type": "stream",
          "name": "stdout",
          "text": [
            "even 10\n",
            "odd 11\n",
            "even 12\n",
            "odd 13\n",
            "even 14\n",
            "odd 15\n",
            "even 16\n",
            "odd 17\n",
            "even 18\n",
            "odd 19\n",
            "even 20\n",
            "odd 21\n",
            "even 22\n",
            "odd 23\n",
            "even 24\n",
            "odd 25\n",
            "even 26\n",
            "odd 27\n",
            "even 28\n",
            "odd 29\n",
            "even 30\n",
            "odd 31\n",
            "even 32\n",
            "odd 33\n",
            "even 34\n",
            "odd 35\n",
            "even 36\n",
            "odd 37\n",
            "even 38\n",
            "odd 39\n",
            "even 40\n",
            "odd 41\n",
            "even 42\n",
            "odd 43\n",
            "even 44\n",
            "odd 45\n",
            "even 46\n",
            "odd 47\n",
            "even 48\n",
            "odd 49\n"
          ]
        }
      ]
    },
    {
      "cell_type": "code",
      "source": [
        "for i in range (1,10):\n",
        "\n",
        "    print(i**2=i)\n",
        "\n"
      ],
      "metadata": {
        "colab": {
          "base_uri": "https://localhost:8080/"
        },
        "id": "8kfdn-BAYpEp",
        "outputId": "7d192904-c9b4-4a7e-e913-204c97f9a04c"
      },
      "execution_count": null,
      "outputs": [
        {
          "output_type": "stream",
          "name": "stdout",
          "text": [
            "1\n",
            "4\n",
            "9\n",
            "16\n",
            "25\n",
            "36\n",
            "49\n",
            "64\n",
            "81\n"
          ]
        }
      ]
    },
    {
      "cell_type": "code",
      "source": [
        "my_list=[10,20,30,40,50]\n",
        "sum(my_list)\n",
        "# for i in my_list:\n",
        "\n",
        "#   print(sum(my_list))"
      ],
      "metadata": {
        "colab": {
          "base_uri": "https://localhost:8080/"
        },
        "id": "MhV5I3zYL44U",
        "outputId": "25ec573d-0bbf-40ff-d228-2d427273488e"
      },
      "execution_count": null,
      "outputs": [
        {
          "output_type": "execute_result",
          "data": {
            "text/plain": [
              "150"
            ]
          },
          "metadata": {},
          "execution_count": 3
        }
      ]
    },
    {
      "cell_type": "code",
      "source": [
        "i=10\n",
        "while i<10:\n",
        "  print('hlo')\n"
      ],
      "metadata": {
        "id": "-PK-R1TBQ_mp"
      },
      "execution_count": null,
      "outputs": []
    },
    {
      "cell_type": "code",
      "source": [
        "My_list = [\"Mango\", \"Banana\", \"Orange\", \"Kiwi\", \"Melon\"]\n",
        "# while My_list:\n",
        "#   print(My_list)\n",
        "#   my_list=my_list+1\n",
        "\n",
        "while My_list:\n",
        "  print(My_list.pop())"
      ],
      "metadata": {
        "colab": {
          "base_uri": "https://localhost:8080/"
        },
        "id": "O2lKiIJAUgew",
        "outputId": "205e2c82-df88-4bfa-8bdd-c40119eb31f2"
      },
      "execution_count": null,
      "outputs": [
        {
          "output_type": "stream",
          "name": "stdout",
          "text": [
            "Melon\n",
            "Kiwi\n",
            "Orange\n",
            "Banana\n",
            "Mango\n"
          ]
        }
      ]
    },
    {
      "cell_type": "code",
      "metadata": {
        "colab": {
          "base_uri": "https://localhost:8080/"
        },
        "id": "41d40aed",
        "outputId": "6764f964-3f02-41a6-ac22-51dffec1913d"
      },
      "source": [
        "My_list = [\"Mango\", \"Banana\", \"Orange\", \"Kiwi\", \"Melon\"]\n",
        "for fruit in My_list:\n",
        "  print(fruit)"
      ],
      "execution_count": null,
      "outputs": [
        {
          "output_type": "stream",
          "name": "stdout",
          "text": [
            "Mango\n",
            "Banana\n",
            "Orange\n",
            "Kiwi\n",
            "Melon\n"
          ]
        }
      ]
    },
    {
      "cell_type": "code",
      "metadata": {
        "colab": {
          "base_uri": "https://localhost:8080/"
        },
        "id": "e495657b",
        "outputId": "8b113dc8-9628-4ed3-ac5f-a79b77886d5a"
      },
      "source": [
        "My_list = [\"Mango\", \"Banana\", \"Orange\", \"Kiwi\", \"Melon\"]\n",
        "My_list.append(\"Grapes\")\n",
        "print(My_list)"
      ],
      "execution_count": null,
      "outputs": [
        {
          "output_type": "stream",
          "name": "stdout",
          "text": [
            "['Mango', 'Banana', 'Orange', 'Kiwi', 'Melon', 'Grapes']\n"
          ]
        }
      ]
    },
    {
      "cell_type": "code",
      "source": [
        "def sum_of_element(my_list):\n",
        "  total = 0\n",
        "  for item in my_list:\n",
        "    total += item\n",
        "  return total\n",
        "\n",
        "my_numbers = [1, 2, 3, 4, 5]\n",
        "sum_of_numbers = sum_of_element(my_numbers)\n",
        "print(f\"The sum of the numbers is: {sum_of_numbers}\")"
      ],
      "metadata": {
        "id": "ZGG8e1kods5Y"
      },
      "execution_count": null,
      "outputs": []
    },
    {
      "cell_type": "code",
      "source": [
        "A=\"Python Programming Language\"\n",
        "B = \"Best in the World\"\n",
        "print(A[10:4])\n",
        "print(B[-1:-5])"
      ],
      "metadata": {
        "id": "n5mB5l3YSgZC",
        "outputId": "b2b1d15a-03e3-442c-e2cf-bf29e9a9b109",
        "colab": {
          "base_uri": "https://localhost:8080/"
        }
      },
      "execution_count": null,
      "outputs": [
        {
          "output_type": "stream",
          "name": "stdout",
          "text": [
            "\n",
            "\n"
          ]
        }
      ]
    },
    {
      "cell_type": "code",
      "source": [
        "b=int(input(\"enter a number :\"))\n",
        "while True:\n",
        "    b-=2\n",
        "    if(b!=5):\n",
        "        print(b)\n",
        "        break\n",
        "    else:\n",
        "        break\n"
      ],
      "metadata": {
        "id": "Dcy2DOYLuoNX"
      },
      "execution_count": null,
      "outputs": []
    },
    {
      "cell_type": "code",
      "source": [
        "x=10\n",
        "x%=3"
      ],
      "metadata": {
        "id": "Hux1W3OxWKJe"
      },
      "execution_count": 1,
      "outputs": []
    },
    {
      "cell_type": "code",
      "source": [
        "A = 14\n",
        "B = 12\n",
        "print('Smaller') if A > B else print('Greater')\n",
        "\n",
        "x = list(range(2, 10, 2))\n",
        "y = [2,4,6]\n",
        "for i in x:\n",
        "    if i in y:\n",
        "        print(i//2, end=\"\")\n",
        "    else:\n",
        "     break\n",
        "\n",
        "X = lambda x: x%2\n",
        "print(X(10))\n",
        "\n",
        "def update(x):\n",
        "    for i in x:\n",
        "        if i < 0:\n",
        "         break\n",
        "        else:\n",
        "            print(i+1, end=\"\")\n",
        "a = [1,2,3,4,5]\n",
        "update(a)\n",
        "\n",
        "import math as np\n",
        "x = 10\n",
        "print(np.pow(x,2))"
      ],
      "metadata": {
        "id": "MOeqaHl3c1KV"
      },
      "execution_count": null,
      "outputs": []
    }
  ]
}